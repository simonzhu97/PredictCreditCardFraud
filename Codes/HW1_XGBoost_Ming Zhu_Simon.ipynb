{
 "cells": [
  {
   "cell_type": "code",
   "execution_count": 69,
   "metadata": {},
   "outputs": [],
   "source": [
    "#Author: Simon Zhu\n",
    "#Date: 7.14.2020"
   ]
  },
  {
   "cell_type": "markdown",
   "metadata": {},
   "source": [
    "# Preprocessing the Data"
   ]
  },
  {
   "cell_type": "markdown",
   "metadata": {},
   "source": [
    "### 1. Read the files and join corresponding datasets"
   ]
  },
  {
   "cell_type": "code",
   "execution_count": 31,
   "metadata": {},
   "outputs": [],
   "source": [
    "# import the necessary packages\n",
    "import pandas as pd\n",
    "import numpy as np\n",
    "\n",
    "# read the files and create datasets\n",
    "df_id = pd.read_csv(\"newtrain_identity.csv\", index_col = \"TransactionID\")\n",
    "df_trans = pd.read_csv(\"newtrain_transaction_200000.csv\", index_col = \"TransactionID\")\n",
    "df_id_test = pd.read_csv(\"newtest_identity.csv\",index_col = \"TransactionID\")\n",
    "df_trans_test = pd.read_csv(\"newtest_transaction_withoutlabel.csv\",index_col = \"TransactionID\")"
   ]
  },
  {
   "cell_type": "code",
   "execution_count": 33,
   "metadata": {},
   "outputs": [
    {
     "name": "stdout",
     "output_type": "stream",
     "text": [
      "(134233, 40) (80397, 393) (10000, 40) (10000, 392)\n"
     ]
    }
   ],
   "source": [
    "print(df_id.shape,df_trans.shape,df_id_test.shape,df_trans_test.shape)"
   ]
  },
  {
   "cell_type": "code",
   "execution_count": 34,
   "metadata": {},
   "outputs": [],
   "source": [
    "#df_train_new = df_trans\n",
    "#df_test = df_trans_test\n",
    "df_train = df_trans.merge(df_id, how='left', left_index=True, right_index=True)\n",
    "df_test = df_trans_test.merge(df_id_test, how='left', left_index=True, right_index=True)"
   ]
  },
  {
   "cell_type": "code",
   "execution_count": 35,
   "metadata": {},
   "outputs": [
    {
     "name": "stdout",
     "output_type": "stream",
     "text": [
      "(80397, 433) (10000, 432)\n"
     ]
    }
   ],
   "source": [
    "print(df_train.shape,df_test.shape)"
   ]
  },
  {
   "cell_type": "markdown",
   "metadata": {},
   "source": [
    "### 2. Remove the outliers WRT Transaction Amount"
   ]
  },
  {
   "cell_type": "code",
   "execution_count": 36,
   "metadata": {},
   "outputs": [
    {
     "name": "stdout",
     "output_type": "stream",
     "text": [
      "(79049, 433)\n"
     ]
    }
   ],
   "source": [
    "# As demonstrated in the EDA notebook, outliers only comprise 1.74% of the fraud data, \n",
    "# so removing the outliers may give a more accurate distribution of the fraud data\n",
    "data_mean, data_std = np.mean(df_train['TransactionAmt']), np.std(df_train['TransactionAmt'])\n",
    "cut = 3* data_std # anything lying three stds or more away from the mean are considered outliers\n",
    "# remove the outliers from the original dataset and create a new one\n",
    "df_train = df_train[(df_train['TransactionAmt']>data_mean-cut) & (df_train['TransactionAmt']<data_mean+cut)]\n",
    "print(df_train.shape)"
   ]
  },
  {
   "cell_type": "markdown",
   "metadata": {},
   "source": [
    "### 3. Drop the labels from the training dataset"
   ]
  },
  {
   "cell_type": "code",
   "execution_count": 37,
   "metadata": {},
   "outputs": [
    {
     "name": "stdout",
     "output_type": "stream",
     "text": [
      "(79049, 432) (10000, 432)\n"
     ]
    }
   ],
   "source": [
    "# separate the labels from the training data\n",
    "df_train_no_label = df_train.drop('isFraud',axis=1)\n",
    "df_train_label = df_train[['isFraud']].copy()\n",
    "df_test_no_label = df_test.copy()\n",
    "print(df_train_no_label.shape,df_test_no_label.shape)"
   ]
  },
  {
   "cell_type": "markdown",
   "metadata": {},
   "source": [
    "### 4. Feature selection"
   ]
  },
  {
   "cell_type": "code",
   "execution_count": 38,
   "metadata": {},
   "outputs": [],
   "source": [
    "# import the necessary packages\n",
    "from sklearn.preprocessing import OneHotEncoder\n",
    "from sklearn.preprocessing import LabelEncoder\n",
    "from sklearn.impute import SimpleImputer"
   ]
  },
  {
   "cell_type": "code",
   "execution_count": 39,
   "metadata": {},
   "outputs": [],
   "source": [
    "# drop unnecessary categorical data based on findings in the EDA notebook\n",
    "# drop all NaN columns\n",
    "df_train_no_label.drop(['P_emaildomain', 'R_emaildomain','M1','M2',\"M3\", 'M4','M5','M6','M7','M8','M9'], axis = 1,inplace=True)\n",
    "df_test_no_label.drop(['P_emaildomain', 'R_emaildomain','M1','M2',\"M3\", 'M4','M5','M6','M7','M8','M9'], axis = 1,inplace=True)\n",
    "\n",
    "for col in df_test_no_label.columns:\n",
    "    if df_test_no_label[col].isnull().values.any():\n",
    "        df_train_no_label[col].dropna(how='all',inplace=True)\n",
    "        df_test_no_label[col].dropna(how='all',inplace=True)"
   ]
  },
  {
   "cell_type": "code",
   "execution_count": 40,
   "metadata": {},
   "outputs": [
    {
     "name": "stdout",
     "output_type": "stream",
     "text": [
      "(79049, 421) (10000, 421)\n"
     ]
    }
   ],
   "source": [
    "print(df_train_no_label.shape,df_test_no_label.shape)"
   ]
  },
  {
   "cell_type": "markdown",
   "metadata": {},
   "source": [
    "### 5. Encode the categorical features"
   ]
  },
  {
   "cell_type": "code",
   "execution_count": 42,
   "metadata": {},
   "outputs": [],
   "source": [
    "def label_encoding(X_train, cat_idx, X_test):\n",
    "    for f in cat_idx:\n",
    "        cat_encoder = LabelEncoder()\n",
    "        cat_encoder.fit(list(X_train[f].values) + list(X_test[f].values))\n",
    "        X_train[f] = cat_encoder.transform(list(X_train[f].values))\n",
    "        X_test[f] = cat_encoder.transform(list(X_test[f].values))\n",
    "    return X_train, X_test"
   ]
  },
  {
   "cell_type": "code",
   "execution_count": 43,
   "metadata": {},
   "outputs": [],
   "source": [
    "cat_idx = df_train_no_label.select_dtypes(include=['category',object]).columns\n",
    "df_train_no_label,df_test_no_label = label_encoding(df_train_no_label, cat_idx, df_test_no_label)"
   ]
  },
  {
   "cell_type": "code",
   "execution_count": 44,
   "metadata": {},
   "outputs": [
    {
     "name": "stdout",
     "output_type": "stream",
     "text": [
      "(79049, 421) (10000, 421)\n"
     ]
    }
   ],
   "source": [
    "print(df_train_no_label.shape,df_test_no_label.shape)"
   ]
  },
  {
   "cell_type": "markdown",
   "metadata": {},
   "source": [
    "# Building the Model"
   ]
  },
  {
   "cell_type": "code",
   "execution_count": 16,
   "metadata": {},
   "outputs": [],
   "source": [
    "import xgboost as xgb\n",
    "from sklearn.model_selection import cross_validate\n",
    "from sklearn.metrics import roc_auc_score"
   ]
  },
  {
   "cell_type": "code",
   "execution_count": 70,
   "metadata": {},
   "outputs": [],
   "source": [
    "xgb_clf = xgb.XGBClassifier()\n",
    "AUROCs = cross_validate(xgb_clf, df_train_no_label, df_train_label.values.ravel(), scoring=\"roc_auc\",\n",
    "                    cv=5, return_train_score=False)"
   ]
  },
  {
   "cell_type": "code",
   "execution_count": 397,
   "metadata": {},
   "outputs": [
    {
     "name": "stdout",
     "output_type": "stream",
     "text": [
      "[0.85548457 0.85698026 0.84170096 0.89975663 0.78250281]\n",
      "mean 0.847285047797515\n"
     ]
    }
   ],
   "source": [
    "print(AUROCs['test_score'])\n",
    "print(\"mean\",np.mean(AUROCs['test_score']))"
   ]
  },
  {
   "cell_type": "markdown",
   "metadata": {},
   "source": [
    "### Use RandomizedSearchCV to tune hyperparameters"
   ]
  },
  {
   "cell_type": "code",
   "execution_count": 18,
   "metadata": {},
   "outputs": [],
   "source": [
    "from scipy import stats\n",
    "from sklearn.model_selection import RandomizedSearchCV\n",
    "\n",
    "xgb_clf_new = xgb.XGBClassifier(objective = 'binary:logistic')\n",
    "param_dist = {'n_estimators': stats.randint(200, 1000),\n",
    "              'learning_rate': stats.uniform(0.01, 0.5),\n",
    "              'subsample': stats.uniform(0.3, 0.7),\n",
    "              'max_depth': [3, 4, 5, 6, 7, 8, 9],\n",
    "              'colsample_bytree': stats.uniform(0.5, 0.5),\n",
    "              'min_child_weight': [1, 2, 3, 4]\n",
    "             }\n",
    "\n",
    "clf = RandomizedSearchCV(xgb_clf_new, \n",
    "                         param_distributions = param_dist,\n",
    "                         cv = 5,\n",
    "                         n_iter = 5,  \n",
    "                         scoring = 'roc_auc',  \n",
    "                         verbose = 1)"
   ]
  },
  {
   "cell_type": "code",
   "execution_count": 19,
   "metadata": {},
   "outputs": [
    {
     "name": "stdout",
     "output_type": "stream",
     "text": [
      "Fitting 5 folds for each of 5 candidates, totalling 25 fits\n"
     ]
    },
    {
     "name": "stderr",
     "output_type": "stream",
     "text": [
      "[Parallel(n_jobs=1)]: Using backend SequentialBackend with 1 concurrent workers.\n",
      "[Parallel(n_jobs=1)]: Done  25 out of  25 | elapsed: 46.3min finished\n"
     ]
    },
    {
     "data": {
      "text/plain": [
       "RandomizedSearchCV(cv=5, error_score='raise-deprecating',\n",
       "          estimator=XGBClassifier(base_score=None, booster=None, colsample_bylevel=None,\n",
       "       colsample_bynode=None, colsample_bytree=None, gamma=None,\n",
       "       gpu_id=None, importance_type='gain', interaction_constraints=None,\n",
       "       learning_rate=None, max_delta_step=None, max_depth=None,\n",
       "       min_child_w..._pos_weight=None, subsample=None,\n",
       "       tree_method=None, validate_parameters=None, verbosity=None),\n",
       "          fit_params=None, iid='warn', n_iter=5, n_jobs=None,\n",
       "          param_distributions={'n_estimators': <scipy.stats._distn_infrastructure.rv_frozen object at 0x7fbe6a4da048>, 'learning_rate': <scipy.stats._distn_infrastructure.rv_frozen object at 0x7fbe6a4da1d0>, 'subsample': <scipy.stats._distn_infrastructure.rv_frozen object at 0x7fbe6a4da748>, 'max_depth': [3, 4, 5, 6, 7, 8, 9], 'colsample_bytree': <scipy.stats._distn_infrastructure.rv_frozen object at 0x7fbe6a4da5c0>, 'min_child_weight': [1, 2, 3, 4]},\n",
       "          pre_dispatch='2*n_jobs', random_state=None, refit=True,\n",
       "          return_train_score='warn', scoring='roc_auc', verbose=1)"
      ]
     },
     "execution_count": 19,
     "metadata": {},
     "output_type": "execute_result"
    }
   ],
   "source": [
    "clf.fit(df_train_no_label, df_train_label.values.ravel())"
   ]
  },
  {
   "cell_type": "code",
   "execution_count": 24,
   "metadata": {},
   "outputs": [
    {
     "name": "stdout",
     "output_type": "stream",
     "text": [
      "0.8976827314137139\n"
     ]
    }
   ],
   "source": [
    "# The AUROC score of the best estimator found by the RandomizedSearchCV\n",
    "print(clf.best_score_)"
   ]
  },
  {
   "cell_type": "markdown",
   "metadata": {},
   "source": [
    "**The AUROC score of the model is 89.77%**"
   ]
  },
  {
   "cell_type": "code",
   "execution_count": 25,
   "metadata": {},
   "outputs": [],
   "source": [
    "#save the model\n",
    "import pickle\n",
    "filename = 'finalized_model.sav'\n",
    "pickle.dump(clf, open(filename, 'wb'))"
   ]
  },
  {
   "cell_type": "markdown",
   "metadata": {},
   "source": [
    "# Interpretation of the model"
   ]
  },
  {
   "cell_type": "code",
   "execution_count": 29,
   "metadata": {},
   "outputs": [
    {
     "data": {
      "image/png": "[encoded data removed]",
      "text/plain": [
       "<Figure size 432x288 with 1 Axes>"
      ]
     },
     "metadata": {
      "needs_background": "light"
     },
     "output_type": "display_data"
    }
   ],
   "source": [
    "# plot feature importance using built-in function\n",
    "from numpy import loadtxt\n",
    "from xgboost import plot_importance\n",
    "from matplotlib import pyplot\n",
    "%matplotlib inline\n",
    "# plot feature importance\n",
    "plot_importance(clf.best_estimator_,max_num_features=10)\n",
    "pyplot.show()\n",
    "# It turns out that card1, card2, TransactionAmt, TransactionDT, addr 1\n",
    "# are the Top 5 features that can decide whether a transaction is fraud or not."
   ]
  },
  {
   "cell_type": "markdown",
   "metadata": {},
   "source": [
    "# Use the model for prediction"
   ]
  },
  {
   "cell_type": "code",
   "execution_count": 66,
   "metadata": {},
   "outputs": [
    {
     "name": "stdout",
     "output_type": "stream",
     "text": [
      "[[9.9976236e-01 2.3766156e-04]\n",
      " [9.9854243e-01 1.4575502e-03]\n",
      " [9.9895185e-01 1.0481552e-03]\n",
      " ...\n",
      " [9.9795496e-01 2.0450533e-03]\n",
      " [9.7163826e-01 2.8361753e-02]\n",
      " [9.9959499e-01 4.0502593e-04]]\n"
     ]
    }
   ],
   "source": [
    "# load the model from disk\n",
    "filename = 'finalized_model.sav'\n",
    "loaded_model = pickle.load(open(filename, 'rb'))\n",
    "result = loaded_model.predict_proba(df_test_no_label)\n",
    "print(result)"
   ]
  },
  {
   "cell_type": "code",
   "execution_count": 67,
   "metadata": {},
   "outputs": [],
   "source": [
    "# read and revise the test file\n",
    "newsample_submission = pd.read_csv('newsample_submission.csv', index_col = 'TransactionID')\n",
    "newsample_submission['isFraud'] = result[:,[1]]\n",
    "#print(newsample_submission)\n",
    "newsample_submission.to_csv('simple_xgboost.csv')"
   ]
  },
  {
   "cell_type": "code",
   "execution_count": 68,
   "metadata": {},
   "outputs": [
    {
     "data": {
      "text/plain": [
       "isFraud    0.056351\n",
       "dtype: float32"
      ]
     },
     "execution_count": 68,
     "metadata": {},
     "output_type": "execute_result"
    }
   ],
   "source": [
    "#sanity check\n",
    "np.mean(newsample_submission)"
   ]
  },
  {
   "cell_type": "markdown",
   "metadata": {},
   "source": [
    "# Reflection and Takeaways"
   ]
  },
  {
   "cell_type": "markdown",
   "metadata": {},
   "source": [
    "### 1. Explanation of the exploration process"
   ]
  },
  {
   "cell_type": "markdown",
   "metadata": {},
   "source": [
    "1. During the first trial, I used lightgbm rather than xgboost, and chose OneHot Encoding to encode every categorical feature, the final AUROC result is 77.21%. Considering that the lightgbm algorithm handles the missing values pretty well, I continue to play around with the features to see whether manipulation can result in higher AUROC score.\n",
    "\n",
    "2. Therefore, during my second trial, I dropped all the columns with missing values, leaving us only about 60 columns. Ceteris paribus, the corresponding AUROC score dropped to 72.34%. This trial indicates that there are many features with missing values that are still significant. Therefore, a complete elimination of missing-value features does not improve the model.\n",
    "\n",
    "3. Realizing that, what I did next is to see the power of the categorical data. Therefore, I dropped all categorical data in the next run, and realize that the AUROC score became 73.3%, significantly lower than the first trial. It makes me realize that there are definitely some important catgorical features.\n",
    "\n",
    "4. Thus, in the next trial, I referred back to the EDA notebook, and pick out the features that do not have significant impact on the percentage of \"fraud\". About 9 features were dropped.\n"
   ]
  },
  {
   "cell_type": "markdown",
   "metadata": {},
   "source": [
    "### 2. Lessons Learned & Questions for Future Exploration"
   ]
  },
  {
   "cell_type": "markdown",
   "metadata": {},
   "source": [
    "1. Surprisingly, OneHot Encoding and Label Encoding can yield drastly different results. In our case, OneHot Encoding actually leads to lower accuracy for lightgbm algorithm. I dig into this issue, and realize that OneHot Encoding prevents the problem caused by distance bias between the values, but it also increases number of features, thereby may disturbing performance of lightgbm model. --> Tips for future exploration: Find out which categorical features are ordinal. If they are ordinal, use LabelEncoder; otherwise, use OneHot Encoder.\n",
    "\n",
    "2. Some other thoughts on PCA: The example code uses PCA and significantly increases the accuracy of the model. Yet when I use PCA, it reduces the AUROC to 68%. Since the only difference between my code and the example code is that I did not drop as many columns, I wonder whether the inputs to PCA will significantly affect the final accuracy.\n",
    "\n",
    "3. ALWAYS SAVE THE MODEL. It will be a diaster if you have to refit the model every time you restart the program.\n",
    "\n",
    "4. RandomizedSearchCV can be our friend. The hyperparameter tuning process, although time-consuming, indeed enhances the performance of the model. The mean AUROC score increases from 84.7% to 89%."
   ]
  },
  {
   "cell_type": "markdown",
   "metadata": {},
   "source": [
    "### 3. AUROC"
   ]
  },
  {
   "cell_type": "markdown",
   "metadata": {},
   "source": [
    "**The mean AUROC score for validation of the model is 89.77%** (Please refer to previous sections for specific codes)"
   ]
  },
  {
   "cell_type": "code",
   "execution_count": null,
   "metadata": {},
   "outputs": [],
   "source": []
  }
 ],
 "metadata": {
  "kernelspec": {
   "display_name": "Python 3",
   "language": "python",
   "name": "python3"
  },
  "language_info": {
   "codemirror_mode": {
    "name": "ipython",
    "version": 3
   },
   "file_extension": ".py",
   "mimetype": "text/x-python",
   "name": "python",
   "nbconvert_exporter": "python",
   "pygments_lexer": "ipython3",
   "version": "3.7.0"
  }
 },
 "nbformat": 4,
 "nbformat_minor": 2
}
